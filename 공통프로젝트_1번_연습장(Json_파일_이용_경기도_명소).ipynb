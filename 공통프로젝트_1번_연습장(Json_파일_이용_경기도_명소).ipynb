{
  "nbformat": 4,
  "nbformat_minor": 0,
  "metadata": {
    "colab": {
      "name": "공통프로젝트 1번 연습장(Json 파일 이용 경기도 명소).ipynb",
      "provenance": [],
      "collapsed_sections": [],
      "authorship_tag": "ABX9TyOwFcoVgf9zGmiERtfRCuWo",
      "include_colab_link": true
    },
    "kernelspec": {
      "name": "python3",
      "display_name": "Python 3"
    },
    "language_info": {
      "name": "python"
    }
  },
  "cells": [
    {
      "cell_type": "markdown",
      "metadata": {
        "id": "view-in-github",
        "colab_type": "text"
      },
      "source": [
        "<a href=\"https://colab.research.google.com/github/Angorith/acorn_python_test/blob/main/%EA%B3%B5%ED%86%B5%ED%94%84%EB%A1%9C%EC%A0%9D%ED%8A%B8_1%EB%B2%88_%EC%97%B0%EC%8A%B5%EC%9E%A5(Json_%ED%8C%8C%EC%9D%BC_%EC%9D%B4%EC%9A%A9_%EA%B2%BD%EA%B8%B0%EB%8F%84_%EB%AA%85%EC%86%8C).ipynb\" target=\"_parent\"><img src=\"https://colab.research.google.com/assets/colab-badge.svg\" alt=\"Open In Colab\"/></a>"
      ]
    },
    {
      "cell_type": "code",
      "source": [
        "import pandas as pd\n",
        "import numpy as np\n",
        "import matplotlib.pyplot as plt\n",
        "import json\n",
        "%matplotlib inline"
      ],
      "metadata": {
        "id": "f0Cj4mTpKl1x"
      },
      "execution_count": null,
      "outputs": []
    },
    {
      "cell_type": "code",
      "source": [
        "ls"
      ],
      "metadata": {
        "colab": {
          "base_uri": "https://localhost:8080/"
        },
        "id": "Og-Wh-hLn-ZI",
        "outputId": "24d1adb2-2288-4a6a-e3c2-df86cf61fae7"
      },
      "execution_count": null,
      "outputs": [
        {
          "output_type": "stream",
          "name": "stdout",
          "text": [
            " 경기도명소현황.csv  '경기도 명소.html'   경기도명소현황.json   \u001b[0m\u001b[01;34msample_data\u001b[0m/\n"
          ]
        }
      ]
    },
    {
      "cell_type": "code",
      "source": [
        "cat 경기도명소현황.json"
      ],
      "metadata": {
        "id": "Kdmd4qvqKmjf"
      },
      "execution_count": null,
      "outputs": []
    },
    {
      "cell_type": "code",
      "source": [
        "gg = pd.read_json('경기도명소현황.json')"
      ],
      "metadata": {
        "id": "SVKtgTM9oD7O"
      },
      "execution_count": null,
      "outputs": []
    },
    {
      "cell_type": "code",
      "source": [
        "gg"
      ],
      "metadata": {
        "id": "m2GIbycooWmL"
      },
      "execution_count": null,
      "outputs": []
    },
    {
      "cell_type": "code",
      "source": [
        "gg.NM_SM_NM"
      ],
      "metadata": {
        "id": "ADKaY889oXd8"
      },
      "execution_count": null,
      "outputs": []
    },
    {
      "cell_type": "code",
      "source": [
        "gg.REFINE_WGS84_LAT\t"
      ],
      "metadata": {
        "id": "3-GFBJSQonif"
      },
      "execution_count": null,
      "outputs": []
    },
    {
      "cell_type": "code",
      "source": [
        "gg.REFINE_WGS84_LOGT"
      ],
      "metadata": {
        "id": "E7xmocpmoujR"
      },
      "execution_count": null,
      "outputs": []
    },
    {
      "cell_type": "code",
      "source": [
        "import folium"
      ],
      "metadata": {
        "id": "fEDnnxoVpNeA"
      },
      "execution_count": null,
      "outputs": []
    },
    {
      "cell_type": "code",
      "source": [
        "data = gg"
      ],
      "metadata": {
        "id": "bQexricOpe39"
      },
      "execution_count": null,
      "outputs": []
    },
    {
      "cell_type": "code",
      "source": [
        "data"
      ],
      "metadata": {
        "id": "eAEsNZ0gpn5s"
      },
      "execution_count": null,
      "outputs": []
    },
    {
      "cell_type": "code",
      "source": [
        "for i in data:\n",
        "    print(i)"
      ],
      "metadata": {
        "id": "hTVQK1p5ptYK"
      },
      "execution_count": null,
      "outputs": []
    },
    {
      "cell_type": "code",
      "source": [
        "def FoliumMap(datas, save_files):\n",
        "    maps = folium.Map(location=[37.5602, 126.982], zoom_start =7, tiles= 'cartodbpositron') #지도 열었을 때, 어디가 나오는지\n",
        "\n",
        "    for i in datas :\n",
        "        try:\n",
        "            name = i['NM_SM_NM']\n",
        "            lat = float(i['REFINE_WGS84_LAT'])\n",
        "            lon = float(i['REFINE_WGS84_LOGT'])\n",
        "        except Exception as e:\n",
        "            pass\n",
        "        folium.CircleMarker([lat, lon], radius =4, color='red', fill_color='red',popup=str(name)).add_to(maps)\n",
        "    maps.save(save_files)"
      ],
      "metadata": {
        "id": "tHoLqap1oyKc"
      },
      "execution_count": null,
      "outputs": []
    },
    {
      "cell_type": "code",
      "source": [
        "FoliumMap(data,'gg.html')"
      ],
      "metadata": {
        "id": "NscOfJ1ZpHld"
      },
      "execution_count": null,
      "outputs": []
    },
    {
      "cell_type": "markdown",
      "source": [
        "다시"
      ],
      "metadata": {
        "id": "X3nqyBxeqW8R"
      }
    },
    {
      "cell_type": "code",
      "source": [
        "import json\n",
        "def get_data(file_names):\n",
        "    with open(file_names) as f:\n",
        "        datas = json.load(f)\n",
        "    print(f)\n",
        "    return (datas)"
      ],
      "metadata": {
        "id": "Qbul5_4OqOhf"
      },
      "execution_count": null,
      "outputs": []
    },
    {
      "cell_type": "code",
      "source": [
        "data = get_data('경기도명소현황.json')"
      ],
      "metadata": {
        "colab": {
          "base_uri": "https://localhost:8080/"
        },
        "id": "_xkdcXanqWpE",
        "outputId": "9a549cad-9693-474c-b722-22959f5c7ff7"
      },
      "execution_count": null,
      "outputs": [
        {
          "output_type": "stream",
          "name": "stdout",
          "text": [
            "<_io.TextIOWrapper name='경기도명소현황.json' mode='r' encoding='UTF-8'>\n"
          ]
        }
      ]
    },
    {
      "cell_type": "code",
      "source": [
        "data"
      ],
      "metadata": {
        "id": "MnVs9UUiGqHG"
      },
      "execution_count": null,
      "outputs": []
    },
    {
      "cell_type": "code",
      "source": [
        "with open('경기도명소현황.json') as f:\n",
        "    datas = json.load(f)"
      ],
      "metadata": {
        "id": "X67p4EEcqZw2"
      },
      "execution_count": null,
      "outputs": []
    },
    {
      "cell_type": "code",
      "source": [
        "for i in data:\n",
        "    print(i)"
      ],
      "metadata": {
        "id": "BU0v7TRMqbl4"
      },
      "execution_count": null,
      "outputs": []
    },
    {
      "cell_type": "code",
      "source": [
        "for i in data :\n",
        "    try:\n",
        "        name = i['NM_SM_NM ']\n",
        "        lat = i['REFINE_WGS84_LAT']\n",
        "        log = i['REFINE_WGS84_LOGT']\n",
        "    except Exception as e:\n",
        "        pass\n",
        "    print(name,lat,log)"
      ],
      "metadata": {
        "id": "aaOmjdTFqjrG"
      },
      "execution_count": null,
      "outputs": []
    },
    {
      "cell_type": "code",
      "source": [
        "def FoliumMap(datas, save_files):\n",
        "    maps = folium.Map(location=[37.5602, 126.982], zoom_start =7, tiles= 'cartodbpositron') #지도 열었을 때, 어디가 나오는지\n",
        "\n",
        "    for i in datas :\n",
        "        try:\n",
        "            name = i['NM_SM_NM']\n",
        "            lat = float(i['REFINE_WGS84_LAT'])\n",
        "            lon = float(i['REFINE_WGS84_LOGT'])\n",
        "        except Exception as e:\n",
        "            pass\n",
        "        folium.CircleMarker([lat, lon], radius =4, color='red', fill_color='red',popup=str(name)).add_to(maps)\n",
        "    maps.save(save_files)"
      ],
      "metadata": {
        "id": "vLZ77nx-qpV3"
      },
      "execution_count": null,
      "outputs": []
    },
    {
      "cell_type": "code",
      "source": [
        "FoliumMap(data,'경기도 명소.html')"
      ],
      "metadata": {
        "id": "Ga4nru34qsDl"
      },
      "execution_count": null,
      "outputs": []
    },
    {
      "cell_type": "code",
      "source": [
        ""
      ],
      "metadata": {
        "id": "rC-lMljjE-Xe"
      },
      "execution_count": null,
      "outputs": []
    }
  ]
}