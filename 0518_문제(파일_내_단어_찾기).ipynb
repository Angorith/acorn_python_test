{
  "nbformat": 4,
  "nbformat_minor": 0,
  "metadata": {
    "colab": {
      "name": "0518 문제(파일 내 단어 찾기).ipynb",
      "provenance": [],
      "collapsed_sections": [],
      "authorship_tag": "ABX9TyPUFdqsQQ+ecQBUPqZhj6Ne",
      "include_colab_link": true
    },
    "kernelspec": {
      "name": "python3",
      "display_name": "Python 3"
    },
    "language_info": {
      "name": "python"
    }
  },
  "cells": [
    {
      "cell_type": "markdown",
      "metadata": {
        "id": "view-in-github",
        "colab_type": "text"
      },
      "source": [
        "<a href=\"https://colab.research.google.com/github/Angorith/acorn_python_test/blob/main/0518_%EB%AC%B8%EC%A0%9C(%ED%8C%8C%EC%9D%BC_%EB%82%B4_%EB%8B%A8%EC%96%B4_%EC%B0%BE%EA%B8%B0).ipynb\" target=\"_parent\"><img src=\"https://colab.research.google.com/assets/colab-badge.svg\" alt=\"Open In Colab\"/></a>"
      ]
    },
    {
      "cell_type": "markdown",
      "source": [
        "# **1번**\n",
        "\n",
        "numpy 라이브러리에 assert를 사용한 파일들에 대한 정보를 알고자함"
      ],
      "metadata": {
        "id": "esCA_Amg8qcS"
      }
    },
    {
      "cell_type": "code",
      "execution_count": null,
      "metadata": {
        "colab": {
          "base_uri": "https://localhost:8080/"
        },
        "id": "oTzxcVUa8ala",
        "outputId": "ac841e4b-018c-4dae-c7e2-87376c81d93c"
      },
      "outputs": [
        {
          "output_type": "execute_result",
          "data": {
            "text/plain": [
              "<module 'numpy' from '/usr/local/lib/python3.7/dist-packages/numpy/__init__.py'>"
            ]
          },
          "metadata": {},
          "execution_count": 1
        }
      ],
      "source": [
        "__import__('numpy')   #numpy 위치 찾기"
      ]
    },
    {
      "cell_type": "code",
      "source": [
        "file_path = str(__import__('numpy')).split()[-1].strip('>').strip('\\'').split('/')[:-1] # Numpy 경로 추출 하기 전, <>, /,\\ 제거"
      ],
      "metadata": {
        "id": "Ty7mPsn68dQg"
      },
      "execution_count": null,
      "outputs": []
    },
    {
      "cell_type": "code",
      "source": [
        "file_path = '/'.join(file_path) #.join으로 하위폴더마다 / 추가"
      ],
      "metadata": {
        "id": "-ziMp_xfwkAW"
      },
      "execution_count": null,
      "outputs": []
    },
    {
      "cell_type": "code",
      "source": [
        "file_path"
      ],
      "metadata": {
        "colab": {
          "base_uri": "https://localhost:8080/",
          "height": 35
        },
        "id": "TduaFXl88uLo",
        "outputId": "8f799527-0ae9-456b-f0a9-ca69ab0a0f61"
      },
      "execution_count": null,
      "outputs": [
        {
          "output_type": "execute_result",
          "data": {
            "text/plain": [
              "'/usr/local/lib/python3.7/dist-packages/numpy'"
            ],
            "application/vnd.google.colaboratory.intrinsic+json": {
              "type": "string"
            }
          },
          "metadata": {},
          "execution_count": 138
        }
      ]
    },
    {
      "cell_type": "markdown",
      "source": [
        ".py의 모든 파일 추출 위한 함수"
      ],
      "metadata": {
        "id": "oqXT4SBVw1Ut"
      }
    },
    {
      "cell_type": "code",
      "source": [
        "import glob\n",
        "def FileCollection(source_paths, file_types):\n",
        "  dummy_arg = source_paths+'**/*.' +file_types\n",
        "  print(dummy_arg)\n",
        "  file_lists = glob.glob(dummy_arg,recursive =True)\n",
        "  return file_lists"
      ],
      "metadata": {
        "id": "8QDzHtHDR2Ty"
      },
      "execution_count": null,
      "outputs": []
    },
    {
      "cell_type": "code",
      "source": [
        "file_path"
      ],
      "metadata": {
        "colab": {
          "base_uri": "https://localhost:8080/",
          "height": 35
        },
        "id": "Hvl4ZhBL8fkn",
        "outputId": "0b939f8c-9a01-4900-f257-d13ec21331ef"
      },
      "execution_count": null,
      "outputs": [
        {
          "output_type": "execute_result",
          "data": {
            "text/plain": [
              "'/usr/local/lib/python3.7/dist-packages/numpy'"
            ],
            "application/vnd.google.colaboratory.intrinsic+json": {
              "type": "string"
            }
          },
          "metadata": {},
          "execution_count": 5
        }
      ]
    },
    {
      "cell_type": "code",
      "source": [
        "file_path = '/usr/local/lib/python3.7/dist-packages/numpy/'"
      ],
      "metadata": {
        "id": "aO07tgt78fh4"
      },
      "execution_count": null,
      "outputs": []
    },
    {
      "cell_type": "markdown",
      "source": [
        "결과값"
      ],
      "metadata": {
        "id": "DCIlCxyMw7Nh"
      }
    },
    {
      "cell_type": "code",
      "source": [
        "file_list = FileCollection(file_path,'py')"
      ],
      "metadata": {
        "colab": {
          "base_uri": "https://localhost:8080/"
        },
        "id": "Ehmu6sqb8fcY",
        "outputId": "ac1cd298-d16d-4be6-ad7a-f7e5b948e331"
      },
      "execution_count": null,
      "outputs": [
        {
          "output_type": "stream",
          "name": "stdout",
          "text": [
            "/usr/local/lib/python3.7/dist-packages/numpy/**/*.py\n"
          ]
        }
      ]
    },
    {
      "cell_type": "markdown",
      "source": [
        ".py의 개수"
      ],
      "metadata": {
        "id": "zP19ZdFFw8xf"
      }
    },
    {
      "cell_type": "code",
      "source": [
        "len(file_list)"
      ],
      "metadata": {
        "colab": {
          "base_uri": "https://localhost:8080/"
        },
        "id": "WTTVwdmr8fZu",
        "outputId": "8040f6f4-ab3f-45b4-976d-58bb0e314ab1"
      },
      "execution_count": null,
      "outputs": [
        {
          "output_type": "execute_result",
          "data": {
            "text/plain": [
              "487"
            ]
          },
          "metadata": {},
          "execution_count": 8
        }
      ]
    },
    {
      "cell_type": "code",
      "source": [
        "file_list"
      ],
      "metadata": {
        "id": "o1BG_Vs58fXP"
      },
      "execution_count": null,
      "outputs": []
    },
    {
      "cell_type": "code",
      "source": [
        "file_list[:3]"
      ],
      "metadata": {
        "colab": {
          "base_uri": "https://localhost:8080/"
        },
        "id": "ChtsTdlE8fQv",
        "outputId": "b229480d-b36c-4c4a-d789-4c4f49a0d821"
      },
      "execution_count": null,
      "outputs": [
        {
          "output_type": "execute_result",
          "data": {
            "text/plain": [
              "['/usr/local/lib/python3.7/dist-packages/numpy/setup.py',\n",
              " '/usr/local/lib/python3.7/dist-packages/numpy/ctypeslib.py',\n",
              " '/usr/local/lib/python3.7/dist-packages/numpy/_globals.py']"
            ]
          },
          "metadata": {},
          "execution_count": 44
        }
      ]
    },
    {
      "cell_type": "markdown",
      "source": [
        "Numpy의 모든 .py 파일 중 'assert'단어를 쓴 파일 추출하기 위한 함수"
      ],
      "metadata": {
        "id": "kS5ukETSxCxf"
      }
    },
    {
      "cell_type": "code",
      "source": [
        "def GetDataFromFileList(file_lists, search_sentence):\n",
        "  '''\n",
        "  search_sentence = 'assert'\n",
        "  '''\n",
        "  file_dict = {}              #새로운 딕셔너리 생성\n",
        "  for fn in file_lists:       #fn == file_name  \n",
        "    result_list = []  \n",
        "    with open(fn, 'r')as f:   #파일들을 열고 읽는 코드\n",
        "      lines = f.readlines()\n",
        "    for item in lines:\n",
        "      if search_sentence in item:   #search_sentece라는 변수 안에 담긴 'assert'찾기\n",
        "        result_list.append(item)    #result_list에 append \n",
        "        if result_list:             #result_list를 file_dict에 담기\n",
        "          file_dict[fn] = result_list\n",
        "  return file_dict"
      ],
      "metadata": {
        "id": "RZj7DCa78fN5"
      },
      "execution_count": null,
      "outputs": []
    },
    {
      "cell_type": "code",
      "source": [
        "result_dict = GetDataFromFileList(file_list, 'assert')  "
      ],
      "metadata": {
        "id": "XfCDl8Tb8nLr"
      },
      "execution_count": null,
      "outputs": []
    },
    {
      "cell_type": "code",
      "source": [
        "result_dict"
      ],
      "metadata": {
        "id": "BbgjlScTNKaT"
      },
      "execution_count": null,
      "outputs": []
    },
    {
      "cell_type": "code",
      "source": [
        "#result_dict['/usr/local/lib/python3.7/dist-packages/numpy/tests/test_public_api.py']"
      ],
      "metadata": {
        "colab": {
          "base_uri": "https://localhost:8080/"
        },
        "id": "lkLUEi-ct0OS",
        "outputId": "a879ad79-2a8e-40b6-f273-493cbdf9559e"
      },
      "execution_count": null,
      "outputs": [
        {
          "output_type": "execute_result",
          "data": {
            "text/plain": [
              "['    # pytest gives better error messages with the builtin assert than with\\n',\n",
              " '    # assert_equal\\n',\n",
              " '    assert bad_results == allowlist\\n',\n",
              " '    assert not result\\n',\n",
              " '    assert name in dir(np)\\n',\n",
              " '    assert len(dir(np)) == len(set(dir(np)))\\n',\n",
              " '    assert bad_results == {}\\n',\n",
              " '    assert bad_results == {}\\n',\n",
              " '    assert f is None, (\"\\'test_not_exported\\' is mistakenly exported, \"\\n']"
            ]
          },
          "metadata": {},
          "execution_count": 221
        }
      ]
    },
    {
      "cell_type": "code",
      "source": [
        "#len(result_dict['/usr/local/lib/python3.7/dist-packages/numpy/tests/test_public_api.py'])"
      ],
      "metadata": {
        "colab": {
          "base_uri": "https://localhost:8080/"
        },
        "id": "fQPtGyPn8nI0",
        "outputId": "e8153e59-e17d-49b3-d34b-e480248bc101"
      },
      "execution_count": null,
      "outputs": [
        {
          "output_type": "execute_result",
          "data": {
            "text/plain": [
              "9"
            ]
          },
          "metadata": {},
          "execution_count": 222
        }
      ]
    },
    {
      "cell_type": "code",
      "source": [
        "list(result_dict.keys())"
      ],
      "metadata": {
        "id": "3Nfws8qA8nGl"
      },
      "execution_count": null,
      "outputs": []
    },
    {
      "cell_type": "markdown",
      "source": [
        "Numpy의 모든 .py 파일 중 'assert'가 들어가있는 파일의 개수"
      ],
      "metadata": {
        "id": "r8fruCylxu8r"
      }
    },
    {
      "cell_type": "code",
      "source": [
        "len(list(result_dict.keys()))"
      ],
      "metadata": {
        "colab": {
          "base_uri": "https://localhost:8080/"
        },
        "id": "vl0yAiBcGrXf",
        "outputId": "fc18c5d5-b6b0-4b9f-e076-5a8d6d643b8e"
      },
      "execution_count": null,
      "outputs": [
        {
          "output_type": "execute_result",
          "data": {
            "text/plain": [
              "187"
            ]
          },
          "metadata": {},
          "execution_count": 13
        }
      ]
    },
    {
      "cell_type": "markdown",
      "source": [
        "result.txt 파일에 result_dict 모두 담기"
      ],
      "metadata": {
        "id": "KSmKNnq5x3y8"
      }
    },
    {
      "cell_type": "code",
      "source": [
        "with open('result.txt','w')as f:\n",
        "  for i in result_dict:\n",
        "    f.write(i+ ':'+ str(result_dict[i])+'\\n')"
      ],
      "metadata": {
        "id": "AbB5v4q5sSin"
      },
      "execution_count": null,
      "outputs": []
    },
    {
      "cell_type": "code",
      "source": [
        "ls"
      ],
      "metadata": {
        "colab": {
          "base_uri": "https://localhost:8080/"
        },
        "id": "SZG7ce-3svvj",
        "outputId": "90beb4de-0745-4207-94ca-1072523c951d"
      },
      "execution_count": null,
      "outputs": [
        {
          "output_type": "stream",
          "name": "stdout",
          "text": [
            "result_2.txt  result_3.txt  result_4.txt  result.txt  \u001b[0m\u001b[01;34msample_data\u001b[0m/\n"
          ]
        }
      ]
    },
    {
      "cell_type": "code",
      "source": [
        "cat result.txt"
      ],
      "metadata": {
        "id": "dX8p-gdrswyM"
      },
      "execution_count": null,
      "outputs": []
    },
    {
      "cell_type": "markdown",
      "source": [
        "# **2번**\n",
        "\n",
        "assert 가 해당파일에서 사용된 횟수로 이루어진 긴 항목을 파일로 작성해주시오."
      ],
      "metadata": {
        "id": "Fvuqanuz8t4U"
      }
    },
    {
      "cell_type": "markdown",
      "source": [
        "경로 설정 :\n",
        "\n",
        "/usr/local/lib/python3.7/dist-packages/numpy <<<여기 부분 삭제"
      ],
      "metadata": {
        "id": "TgdkAEhMCo-8"
      }
    },
    {
      "cell_type": "code",
      "source": [
        "with open('result_2.txt','w')as f:\n",
        "  for i in result_dict:\n",
        "    f.write(i.replace(file_path, '')+':'+str(len(result_dict[i]))+'\\n')"
      ],
      "metadata": {
        "id": "pl2GX0eKIqRg"
      },
      "execution_count": null,
      "outputs": []
    },
    {
      "cell_type": "code",
      "source": [
        "second_dict={}\n",
        "for i in result_dict:\n",
        "  second_dict[i.replace(file_path, '')]=len(result_dict[i])"
      ],
      "metadata": {
        "id": "kloTc6_JWHe4"
      },
      "execution_count": null,
      "outputs": []
    },
    {
      "cell_type": "code",
      "source": [
        "second_dict"
      ],
      "metadata": {
        "id": "pXkCqc5XWVsz"
      },
      "execution_count": null,
      "outputs": []
    },
    {
      "cell_type": "code",
      "source": [
        "cat result_2.txt"
      ],
      "metadata": {
        "id": "VfmQTd5WNq5u"
      },
      "execution_count": null,
      "outputs": []
    },
    {
      "cell_type": "markdown",
      "source": [
        "# **3번**\n",
        "\n",
        "assert가 제일 적게 사용되어진 파일 30개를 골라내서\n",
        "파일이름을 적어주고 , assert가 들어간 문장 1줄 출력\n",
        "\n",
        "/폴더/폴더/파일.py : assert type(array) ==int,'wrong type'"
      ],
      "metadata": {
        "id": "Rqvq7OtqGfmE"
      }
    },
    {
      "cell_type": "markdown",
      "source": [
        "함수 2개 필요 : 1. 제일 적게 사용되어진 30개 파일 고르기, 2. assert가 들어간 문장 1줄 출력"
      ],
      "metadata": {
        "id": "jCqY7WBBPL19"
      }
    },
    {
      "cell_type": "markdown",
      "source": [
        "내가 만든거"
      ],
      "metadata": {
        "id": "u1EE7xCXUUW9"
      }
    },
    {
      "cell_type": "code",
      "source": [
        "#import operator"
      ],
      "metadata": {
        "id": "2Zfws64y8m5O"
      },
      "execution_count": null,
      "outputs": []
    },
    {
      "cell_type": "code",
      "source": [
        "#type(second_dict)"
      ],
      "metadata": {
        "colab": {
          "base_uri": "https://localhost:8080/"
        },
        "id": "95aEBX3dT7wH",
        "outputId": "40877946-5ab5-4e09-9ebf-cd519678872f"
      },
      "execution_count": null,
      "outputs": [
        {
          "output_type": "execute_result",
          "data": {
            "text/plain": [
              "dict"
            ]
          },
          "metadata": {},
          "execution_count": 99
        }
      ]
    },
    {
      "cell_type": "code",
      "source": [
        "#second_dict"
      ],
      "metadata": {
        "id": "1wnfd96Ev12u"
      },
      "execution_count": null,
      "outputs": []
    },
    {
      "cell_type": "markdown",
      "source": [
        "오름차순 정렬"
      ],
      "metadata": {
        "id": "mIrfqRzPxXt8"
      }
    },
    {
      "cell_type": "code",
      "source": [
        "#second_dict_sorted = sorted(second_dict.items(), key=operator.itemgetter(1))\n"
      ],
      "metadata": {
        "id": "onRiVKzewOTO"
      },
      "execution_count": null,
      "outputs": []
    },
    {
      "cell_type": "code",
      "source": [
        "#print(second_dict_sorted)"
      ],
      "metadata": {
        "colab": {
          "base_uri": "https://localhost:8080/"
        },
        "id": "vta_cioKxUvo",
        "outputId": "7c60e61e-753e-456d-884d-598ba33ae656"
      },
      "execution_count": null,
      "outputs": [
        {
          "output_type": "stream",
          "name": "stdout",
          "text": [
            "[('/core/overrides.py', 1), ('/f2py/f2py2e.py', 1), ('/lib/format.py', 1), ('/distutils/extension.py', 1), ('/distutils/exec_command.py', 1), ('/distutils/tests/test_build_ext.py', 1), ('/distutils/command/__init__.py', 1), ('/distutils/fcompiler/intel.py', 1), ('/distutils/fcompiler/gnu.py', 1), ('/random/_examples/cffi/extending.py', 1), ('/core/_exceptions.py', 2), ('/core/tests/test_protocols.py', 2), ('/core/tests/test_umath_accuracy.py', 2), ('/f2py/func2subr.py', 2), ('/f2py/tests/test_quoted_character.py', 2), ('/f2py/tests/test_block_docstring.py', 2), ('/f2py/tests/test_module_doc.py', 2), ('/typing/tests/test_isfile.py', 2), ('/typing/tests/data/reveal/modules.py', 2), ('/distutils/_shell_utils.py', 2), ('/distutils/tests/test_shell_utils.py', 2), ('/distutils/tests/test_from_template.py', 2), ('/distutils/tests/test_fcompiler_nagfor.py', 2), ('/testing/_private/decorators.py', 2), ('/random/_examples/numba/extending.py', 2), ('/linalg/tests/test_build.py', 2), ('/tests/test_scripts.py', 3), ('/core/arrayprint.py', 3), ('/core/numeric.py', 3), ('/core/tests/test_cpu_features.py', 3), ('/f2py/tests/test_semicolon_split.py', 3), ('/f2py/tests/test_string.py', 3), ('/f2py/tests/test_kind.py', 3), ('/typing/tests/test_typing_extensions.py', 3), ('/distutils/system_info.py', 3), ('/distutils/tests/test_fcompiler_intel.py', 3), ('/compat/tests/test_compat.py', 4), ('/tests/test_numpy_version.py', 4), ('/f2py/crackfortran.py', 4), ('/f2py/tests/test_abstract_interface.py', 4), ('/f2py/tests/test_common.py', 4), ('/lib/function_base.py', 4), ('/lib/nanfunctions.py', 4), ('/distutils/tests/test_fcompiler.py', 4), ('/f2py/tests/test_mixed.py', 5), ('/typing/tests/test_generic_alias.py', 5), ('/typing/tests/test_runtime.py', 5), ('/typing/tests/test_typing.py', 5), ('/distutils/tests/test_fcompiler_gnu.py', 5), ('/distutils/fcompiler/__init__.py', 5), ('/matrixlib/tests/test_multiarray.py', 5), ('/matrixlib/tests/test_numeric.py', 5), ('/testing/_private/parameterized.py', 5), ('/random/tests/test_extending.py', 5), ('/linalg/tests/test_deprecations.py', 5), ('/f2py/tests/test_assumed_shape.py', 6), ('/f2py/tests/test_compile_function.py', 6), ('/lib/tests/test_arrayterator.py', 6), ('/random/tests/test_seed_sequence.py', 6), ('/core/tests/test_errstate.py', 7), ('/f2py/tests/test_regression.py', 7), ('/core/tests/test_cpu_dispatcher.py', 8), ('/tests/test_public_api.py', 9), ('/core/tests/test_item_selection.py', 9), ('/matrixlib/tests/test_regression.py', 9), ('/testing/utils.py', 9), ('/f2py/tests/test_size.py', 11), ('/tests/test_reloading.py', 12), ('/f2py/tests/test_return_character.py', 12), ('/distutils/misc_util.py', 12), ('/distutils/tests/test_ccompiler_opt.py', 12), ('/ma/tests/test_regression.py', 13), ('/ma/tests/test_deprecations.py', 14), ('/core/tests/test_simd_module.py', 15), ('/random/tests/test_regression.py', 16), ('/tests/test_matlib.py', 17), ('/core/tests/test_print.py', 17), ('/core/tests/test_scalar_methods.py', 17), ('/core/tests/test__exceptions.py', 17), ('/f2py/tests/test_parameter.py', 18), ('/random/tests/test_generator_mt19937_regressions.py', 18), ('/core/tests/test_conversion_utils.py', 19), ('/f2py/tests/test_crackfortran.py', 19), ('/lib/tests/test_utils.py', 19), ('/distutils/tests/test_npy_pkg_config.py', 19), ('/core/tests/test_abc.py', 20), ('/core/tests/test_cython.py', 20), ('/distutils/ccompiler_opt.py', 20), ('/core/tests/test_extint128.py', 21), ('/core/tests/test_scalarinherit.py', 22), ('/core/tests/test_scalar_ctors.py', 22), ('/core/tests/test_scalarbuffer.py', 23), ('/core/tests/test_getlimits.py', 23), ('/lib/tests/test__version.py', 23), ('/polynomial/tests/test_polyutils.py', 24), ('/random/tests/test_randomstate_regression.py', 24), ('/f2py/tests/test_return_integer.py', 25), ('/f2py/tests/test_return_real.py', 26), ('/f2py/tests/test_callback.py', 26), ('/lib/tests/test_ufunclike.py', 26), ('/distutils/tests/test_system_info.py', 28), ('/distutils/tests/test_misc_util.py', 29), ('/f2py/tests/test_return_complex.py', 30), ('/lib/tests/test_mixins.py', 30), ('/lib/tests/test_regression.py', 32), ('/linalg/linalg.py', 33), ('/core/tests/test_unicode.py', 35), ('/fft/tests/test_helper.py', 36), ('/lib/tests/test__datasource.py', 36), ('/linalg/tests/test_regression.py', 37), ('/core/tests/test_memmap.py', 38), ('/core/tests/test_umath_complex.py', 39), ('/f2py/tests/test_return_logical.py', 39), ('/ma/testutils.py', 42), ('/distutils/tests/test_exec_command.py', 44), ('/core/tests/test_mem_overlap.py', 48), ('/polynomial/tests/test_printing.py', 49), ('/core/tests/test_indexerrors.py', 53), ('/lib/tests/test_packbits.py', 56), ('/tests/test_ctypeslib.py', 59), ('/random/tests/test_direct.py', 62), ('/fft/tests/test_pocketfft.py', 64), ('/lib/tests/test_format.py', 65), ('/core/tests/test_array_coercion.py', 68), ('/core/tests/test_longdouble.py', 70), ('/matrixlib/tests/test_masked_matrix.py', 75), ('/ma/timer_comparison.py', 75), ('/ma/tests/test_subclassing.py', 78), ('/core/tests/test_overrides.py', 82), ('/lib/tests/test__iotools.py', 84), ('/core/tests/test_casting_unittests.py', 88), ('/matrixlib/tests/test_interaction.py', 89), ('/lib/tests/test_polynomial.py', 92), ('/lib/tests/test_arraypad.py', 92), ('/f2py/tests/test_array_from_pyobj.py', 94), ('/core/tests/test_scalarprint.py', 97), ('/lib/tests/test_stride_tricks.py', 99), ('/core/tests/test_simd.py', 101), ('/core/tests/test_function_base.py', 108), ('/polynomial/tests/test_laguerre.py', 109), ('/lib/tests/test_twodim_base.py', 112), ('/polynomial/tests/test_hermite.py', 114), ('/polynomial/tests/test_hermite_e.py', 114), ('/lib/tests/test_shape_base.py', 117), ('/polynomial/tests/test_legendre.py', 118), ('/core/tests/test_numerictypes.py', 124), ('/polynomial/tests/test_chebyshev.py', 129), ('/polynomial/tests/test_polynomial.py', 129), ('/random/tests/test_smoke.py', 131), ('/core/tests/test_scalarmath.py', 133), ('/lib/tests/test_histograms.py', 135), ('/lib/tests/test_recfunctions.py', 141), ('/ma/tests/test_mrecords.py', 141), ('/testing/_private/utils.py', 142), ('/lib/tests/test_index_tricks.py', 144), ('/core/tests/test_records.py', 146), ('/core/tests/test_shape_base.py', 148), ('/matrixlib/tests/test_defmatrix.py', 149), ('/core/tests/test_api.py', 150), ('/lib/tests/test_type_check.py', 162), ('/core/tests/test_half.py', 167), ('/lib/tests/test_arraysetops.py', 167), ('/core/tests/test_deprecations.py', 182), ('/polynomial/tests/test_classes.py', 190), ('/core/tests/test_arrayprint.py', 199), ('/core/tests/test_defchararray.py', 202), ('/lib/tests/test_nanfunctions.py', 237), ('/core/tests/test_einsum.py', 242), ('/core/tests/test_indexing.py', 256), ('/core/tests/test_dtype.py', 268), ('/testing/tests/test_utils.py', 330), ('/lib/tests/test_io.py', 351), ('/ma/tests/test_old_ma.py', 351), ('/random/tests/test_random.py', 366), ('/linalg/tests/test_linalg.py', 396), ('/random/tests/test_randomstate.py', 431), ('/core/tests/test_regression.py', 471), ('/ma/tests/test_extras.py', 494), ('/core/tests/test_ufunc.py', 526), ('/random/tests/test_generator_mt19937.py', 527), ('/core/tests/test_nditer.py', 629), ('/core/tests/test_datetime.py', 834), ('/core/tests/test_umath.py', 905), ('/lib/tests/test_function_base.py', 926), ('/core/tests/test_numeric.py', 938), ('/ma/tests/test_core.py', 1602), ('/core/tests/test_multiarray.py', 1806)]\n"
          ]
        }
      ]
    },
    {
      "cell_type": "markdown",
      "source": [
        "리스트로 변환됨"
      ],
      "metadata": {
        "id": "Io2eX_pPx4QJ"
      }
    },
    {
      "cell_type": "code",
      "source": [
        "#type(second_dict_sorted)"
      ],
      "metadata": {
        "colab": {
          "base_uri": "https://localhost:8080/"
        },
        "id": "8bWNTtuKwxIm",
        "outputId": "3b29062e-b355-4b56-c535-84d5a892fdfe"
      },
      "execution_count": null,
      "outputs": [
        {
          "output_type": "execute_result",
          "data": {
            "text/plain": [
              "list"
            ]
          },
          "metadata": {},
          "execution_count": 88
        }
      ]
    },
    {
      "cell_type": "code",
      "source": [
        "#second_list_sorted = second_dict_sorted[:29]"
      ],
      "metadata": {
        "id": "hKnJI95pwISb"
      },
      "execution_count": null,
      "outputs": []
    },
    {
      "cell_type": "code",
      "source": [
        "#second_list_sorted"
      ],
      "metadata": {
        "id": "zyMGDjg7yAWh"
      },
      "execution_count": null,
      "outputs": []
    },
    {
      "cell_type": "markdown",
      "source": [
        "리스트 딕셔너리 변환"
      ],
      "metadata": {
        "id": "VfgIT4LWz41b"
      }
    },
    {
      "cell_type": "code",
      "source": [
        "#import collections"
      ],
      "metadata": {
        "id": "PlA-4gLHz4iq"
      },
      "execution_count": null,
      "outputs": []
    },
    {
      "cell_type": "code",
      "source": [
        "#second_dict"
      ],
      "metadata": {
        "id": "MEJ1OPEbz-Jo"
      },
      "execution_count": null,
      "outputs": []
    },
    {
      "cell_type": "code",
      "source": [
        "#third_list_sorted = sorted(second_dict.items(), key=lambda x:x[1], reverse=False)"
      ],
      "metadata": {
        "id": "992rcT6C0gNp"
      },
      "execution_count": null,
      "outputs": []
    },
    {
      "cell_type": "code",
      "source": [
        "#type(third_list_sorted)"
      ],
      "metadata": {
        "colab": {
          "base_uri": "https://localhost:8080/"
        },
        "id": "NeaaJ6900xD5",
        "outputId": "c04180ba-4e2a-424e-86f1-66dda9f795be"
      },
      "execution_count": null,
      "outputs": [
        {
          "output_type": "execute_result",
          "data": {
            "text/plain": [
              "list"
            ]
          },
          "metadata": {},
          "execution_count": 159
        }
      ]
    },
    {
      "cell_type": "code",
      "source": [
        "#third_list_sorted_2 = third_list_sorted[:29]"
      ],
      "metadata": {
        "id": "XWaNuR7Q1GhI"
      },
      "execution_count": null,
      "outputs": []
    },
    {
      "cell_type": "code",
      "source": [
        "#third_list_sorted_2"
      ],
      "metadata": {
        "id": "41-lEzrR1T2n"
      },
      "execution_count": null,
      "outputs": []
    },
    {
      "cell_type": "code",
      "source": [
        "#third_dict = collections.OrderedDict(third_list_sorted_2)"
      ],
      "metadata": {
        "id": "b7GY3O4K1V7x"
      },
      "execution_count": null,
      "outputs": []
    },
    {
      "cell_type": "code",
      "source": [
        "#third_dict"
      ],
      "metadata": {
        "id": "ADcaz1sW1fYT"
      },
      "execution_count": null,
      "outputs": []
    },
    {
      "cell_type": "markdown",
      "source": [
        "파일 이름과 assert뽑아서 result_3.txt에 넣기"
      ],
      "metadata": {
        "id": "kCgti7sXysTN"
      }
    },
    {
      "cell_type": "code",
      "source": [
        "#third_dict.keys()"
      ],
      "metadata": {
        "colab": {
          "base_uri": "https://localhost:8080/"
        },
        "id": "vIF8qsEDJlt2",
        "outputId": "250ca05c-c008-45b2-e0ea-4399f3b30992"
      },
      "execution_count": null,
      "outputs": [
        {
          "output_type": "execute_result",
          "data": {
            "text/plain": [
              "odict_keys(['/core/overrides.py', '/f2py/f2py2e.py', '/lib/format.py', '/distutils/extension.py', '/distutils/exec_command.py', '/distutils/tests/test_build_ext.py', '/distutils/command/__init__.py', '/distutils/fcompiler/intel.py', '/distutils/fcompiler/gnu.py', '/random/_examples/cffi/extending.py', '/core/_exceptions.py', '/core/tests/test_protocols.py', '/core/tests/test_umath_accuracy.py', '/f2py/func2subr.py', '/f2py/tests/test_quoted_character.py', '/f2py/tests/test_block_docstring.py', '/f2py/tests/test_module_doc.py', '/typing/tests/test_isfile.py', '/typing/tests/data/reveal/modules.py', '/distutils/_shell_utils.py', '/distutils/tests/test_shell_utils.py', '/distutils/tests/test_from_template.py', '/distutils/tests/test_fcompiler_nagfor.py', '/testing/_private/decorators.py', '/random/_examples/numba/extending.py', '/linalg/tests/test_build.py', '/tests/test_scripts.py', '/core/arrayprint.py', '/core/numeric.py'])"
            ]
          },
          "metadata": {},
          "execution_count": 208
        }
      ]
    },
    {
      "cell_type": "code",
      "source": [
        "for i in third_dict:\n",
        "  key = file_path+i\n",
        "  print(key)\n",
        "  #print(i)"
      ],
      "metadata": {
        "colab": {
          "base_uri": "https://localhost:8080/"
        },
        "id": "Qva8aUEIJpmd",
        "outputId": "68f26779-9912-407e-a22a-6a8b9ab13c70"
      },
      "execution_count": null,
      "outputs": [
        {
          "output_type": "stream",
          "name": "stdout",
          "text": [
            "/usr/local/lib/python3.7/dist-packages/numpy//core/overrides.py\n",
            "/usr/local/lib/python3.7/dist-packages/numpy//f2py/f2py2e.py\n",
            "/usr/local/lib/python3.7/dist-packages/numpy//lib/format.py\n",
            "/usr/local/lib/python3.7/dist-packages/numpy//distutils/extension.py\n",
            "/usr/local/lib/python3.7/dist-packages/numpy//distutils/exec_command.py\n",
            "/usr/local/lib/python3.7/dist-packages/numpy//distutils/tests/test_build_ext.py\n",
            "/usr/local/lib/python3.7/dist-packages/numpy//distutils/command/__init__.py\n",
            "/usr/local/lib/python3.7/dist-packages/numpy//distutils/fcompiler/intel.py\n",
            "/usr/local/lib/python3.7/dist-packages/numpy//distutils/fcompiler/gnu.py\n",
            "/usr/local/lib/python3.7/dist-packages/numpy//random/_examples/cffi/extending.py\n",
            "/usr/local/lib/python3.7/dist-packages/numpy//core/_exceptions.py\n",
            "/usr/local/lib/python3.7/dist-packages/numpy//core/tests/test_protocols.py\n",
            "/usr/local/lib/python3.7/dist-packages/numpy//core/tests/test_umath_accuracy.py\n",
            "/usr/local/lib/python3.7/dist-packages/numpy//f2py/func2subr.py\n",
            "/usr/local/lib/python3.7/dist-packages/numpy//f2py/tests/test_quoted_character.py\n",
            "/usr/local/lib/python3.7/dist-packages/numpy//f2py/tests/test_block_docstring.py\n",
            "/usr/local/lib/python3.7/dist-packages/numpy//f2py/tests/test_module_doc.py\n",
            "/usr/local/lib/python3.7/dist-packages/numpy//typing/tests/test_isfile.py\n",
            "/usr/local/lib/python3.7/dist-packages/numpy//typing/tests/data/reveal/modules.py\n",
            "/usr/local/lib/python3.7/dist-packages/numpy//distutils/_shell_utils.py\n",
            "/usr/local/lib/python3.7/dist-packages/numpy//distutils/tests/test_shell_utils.py\n",
            "/usr/local/lib/python3.7/dist-packages/numpy//distutils/tests/test_from_template.py\n",
            "/usr/local/lib/python3.7/dist-packages/numpy//distutils/tests/test_fcompiler_nagfor.py\n",
            "/usr/local/lib/python3.7/dist-packages/numpy//testing/_private/decorators.py\n",
            "/usr/local/lib/python3.7/dist-packages/numpy//random/_examples/numba/extending.py\n",
            "/usr/local/lib/python3.7/dist-packages/numpy//linalg/tests/test_build.py\n",
            "/usr/local/lib/python3.7/dist-packages/numpy//tests/test_scripts.py\n",
            "/usr/local/lib/python3.7/dist-packages/numpy//core/arrayprint.py\n",
            "/usr/local/lib/python3.7/dist-packages/numpy//core/numeric.py\n"
          ]
        }
      ]
    },
    {
      "cell_type": "code",
      "source": [
        "'''def GetDataFromFileList2(third_lists, search_sentence):\n",
        "  '''\n",
        "  search_sentence = 'assert'\n",
        "  '''\n",
        "  third_dict2 = {}\n",
        "  for fn in third_lists: #fn == file_name\n",
        "    result_list2 = []\n",
        "    with open(fn, 'r')as f:\n",
        "      lines = f.readlines()\n",
        "    for item in lines:\n",
        "      if search_sentence in item:\n",
        "        result_list2.append(item)\n",
        "        if result_list2:\n",
        "          third_dict2[fn] = result_list2\n",
        "  return third_dict2'''"
      ],
      "metadata": {
        "id": "hRy_IorlJOId"
      },
      "execution_count": null,
      "outputs": []
    },
    {
      "cell_type": "code",
      "source": [
        "'''result_dict2 = GetDataFromFileList(third_list_sorted_2, 'assert')'''"
      ],
      "metadata": {
        "id": "vN1BgFm7JR0A"
      },
      "execution_count": null,
      "outputs": []
    },
    {
      "cell_type": "code",
      "source": [
        "with open('result_3.txt','w')as f:\n",
        "  for i in third_dict:\n",
        "    f.write(i+':'+str(third_dict[i])+'\\n')"
      ],
      "metadata": {
        "id": "at6PSmeWv6iL"
      },
      "execution_count": null,
      "outputs": []
    },
    {
      "cell_type": "code",
      "source": [
        "third_dict={}\n",
        "for i in third_dict:\n",
        "  third_dict[i]=len(third_dict[i])"
      ],
      "metadata": {
        "id": "6ZcagpVdv-qW"
      },
      "execution_count": null,
      "outputs": []
    },
    {
      "cell_type": "code",
      "source": [
        "cat result_3.txt"
      ],
      "metadata": {
        "colab": {
          "base_uri": "https://localhost:8080/"
        },
        "id": "wBsie4t67Szm",
        "outputId": "07a15a9b-86ff-4527-82fc-1b0ffb540b22"
      },
      "execution_count": null,
      "outputs": [
        {
          "output_type": "stream",
          "name": "stdout",
          "text": [
            "/core/overrides.py:1\n",
            "/f2py/f2py2e.py:1\n",
            "/lib/format.py:1\n",
            "/distutils/extension.py:1\n",
            "/distutils/exec_command.py:1\n",
            "/distutils/tests/test_build_ext.py:1\n",
            "/distutils/command/__init__.py:1\n",
            "/distutils/fcompiler/intel.py:1\n",
            "/distutils/fcompiler/gnu.py:1\n",
            "/random/_examples/cffi/extending.py:1\n",
            "/core/_exceptions.py:2\n",
            "/core/tests/test_protocols.py:2\n",
            "/core/tests/test_umath_accuracy.py:2\n",
            "/f2py/func2subr.py:2\n",
            "/f2py/tests/test_quoted_character.py:2\n",
            "/f2py/tests/test_block_docstring.py:2\n",
            "/f2py/tests/test_module_doc.py:2\n",
            "/typing/tests/test_isfile.py:2\n",
            "/typing/tests/data/reveal/modules.py:2\n",
            "/distutils/_shell_utils.py:2\n",
            "/distutils/tests/test_shell_utils.py:2\n",
            "/distutils/tests/test_from_template.py:2\n",
            "/distutils/tests/test_fcompiler_nagfor.py:2\n",
            "/testing/_private/decorators.py:2\n",
            "/random/_examples/numba/extending.py:2\n",
            "/linalg/tests/test_build.py:2\n",
            "/tests/test_scripts.py:3\n",
            "/core/arrayprint.py:3\n",
            "/core/numeric.py:3\n"
          ]
        }
      ]
    },
    {
      "cell_type": "code",
      "source": [
        "third_dict"
      ],
      "metadata": {
        "colab": {
          "base_uri": "https://localhost:8080/"
        },
        "id": "yuWF1l7SFjNJ",
        "outputId": "43436ec7-b04d-46d5-d6b5-b7dcec6e0f3c"
      },
      "execution_count": null,
      "outputs": [
        {
          "output_type": "execute_result",
          "data": {
            "text/plain": [
              "OrderedDict([('/core/overrides.py', 1),\n",
              "             ('/f2py/f2py2e.py', 1),\n",
              "             ('/lib/format.py', 1),\n",
              "             ('/distutils/extension.py', 1),\n",
              "             ('/distutils/exec_command.py', 1),\n",
              "             ('/distutils/tests/test_build_ext.py', 1),\n",
              "             ('/distutils/command/__init__.py', 1),\n",
              "             ('/distutils/fcompiler/intel.py', 1),\n",
              "             ('/distutils/fcompiler/gnu.py', 1),\n",
              "             ('/random/_examples/cffi/extending.py', 1),\n",
              "             ('/core/_exceptions.py', 2),\n",
              "             ('/core/tests/test_protocols.py', 2),\n",
              "             ('/core/tests/test_umath_accuracy.py', 2),\n",
              "             ('/f2py/func2subr.py', 2),\n",
              "             ('/f2py/tests/test_quoted_character.py', 2),\n",
              "             ('/f2py/tests/test_block_docstring.py', 2),\n",
              "             ('/f2py/tests/test_module_doc.py', 2),\n",
              "             ('/typing/tests/test_isfile.py', 2),\n",
              "             ('/typing/tests/data/reveal/modules.py', 2),\n",
              "             ('/distutils/_shell_utils.py', 2),\n",
              "             ('/distutils/tests/test_shell_utils.py', 2),\n",
              "             ('/distutils/tests/test_from_template.py', 2),\n",
              "             ('/distutils/tests/test_fcompiler_nagfor.py', 2),\n",
              "             ('/testing/_private/decorators.py', 2),\n",
              "             ('/random/_examples/numba/extending.py', 2),\n",
              "             ('/linalg/tests/test_build.py', 2),\n",
              "             ('/tests/test_scripts.py', 3),\n",
              "             ('/core/arrayprint.py', 3),\n",
              "             ('/core/numeric.py', 3)])"
            ]
          },
          "metadata": {},
          "execution_count": 207
        }
      ]
    },
    {
      "cell_type": "markdown",
      "source": [
        "다시 시작"
      ],
      "metadata": {
        "id": "H4t489gGLnBL"
      }
    },
    {
      "cell_type": "code",
      "source": [
        "import operator"
      ],
      "metadata": {
        "id": "oCyL6KUTLoVl"
      },
      "execution_count": null,
      "outputs": []
    },
    {
      "cell_type": "markdown",
      "source": [
        "오름차순 정렬"
      ],
      "metadata": {
        "id": "jzhz5jfwaEcw"
      }
    },
    {
      "cell_type": "code",
      "source": [
        "third_list = sorted(second_dict.items(), key = operator.itemgetter(1))"
      ],
      "metadata": {
        "id": "2RJkURFyLqim"
      },
      "execution_count": null,
      "outputs": []
    },
    {
      "cell_type": "code",
      "source": [
        "result_dict.keys()"
      ],
      "metadata": {
        "colab": {
          "base_uri": "https://localhost:8080/"
        },
        "id": "D02TIqyDsEmj",
        "outputId": "b0a2452a-70d2-4b1b-ae51-356c7bc3f2f8"
      },
      "execution_count": null,
      "outputs": [
        {
          "output_type": "execute_result",
          "data": {
            "text/plain": [
              "dict_keys(['/usr/local/lib/python3.7/dist-packages/numpy/compat/tests/test_compat.py', '/usr/local/lib/python3.7/dist-packages/numpy/fft/tests/test_helper.py', '/usr/local/lib/python3.7/dist-packages/numpy/fft/tests/test_pocketfft.py', '/usr/local/lib/python3.7/dist-packages/numpy/tests/test_numpy_version.py', '/usr/local/lib/python3.7/dist-packages/numpy/tests/test_matlib.py', '/usr/local/lib/python3.7/dist-packages/numpy/tests/test_public_api.py', '/usr/local/lib/python3.7/dist-packages/numpy/tests/test_reloading.py', '/usr/local/lib/python3.7/dist-packages/numpy/tests/test_ctypeslib.py', '/usr/local/lib/python3.7/dist-packages/numpy/tests/test_scripts.py', '/usr/local/lib/python3.7/dist-packages/numpy/core/_exceptions.py', '/usr/local/lib/python3.7/dist-packages/numpy/core/arrayprint.py', '/usr/local/lib/python3.7/dist-packages/numpy/core/numeric.py', '/usr/local/lib/python3.7/dist-packages/numpy/core/overrides.py', '/usr/local/lib/python3.7/dist-packages/numpy/core/tests/test_overrides.py', '/usr/local/lib/python3.7/dist-packages/numpy/core/tests/test_scalarinherit.py', '/usr/local/lib/python3.7/dist-packages/numpy/core/tests/test_cpu_dispatcher.py', '/usr/local/lib/python3.7/dist-packages/numpy/core/tests/test_defchararray.py', '/usr/local/lib/python3.7/dist-packages/numpy/core/tests/test_abc.py', '/usr/local/lib/python3.7/dist-packages/numpy/core/tests/test_multiarray.py', '/usr/local/lib/python3.7/dist-packages/numpy/core/tests/test_casting_unittests.py', '/usr/local/lib/python3.7/dist-packages/numpy/core/tests/test_unicode.py', '/usr/local/lib/python3.7/dist-packages/numpy/core/tests/test_indexerrors.py', '/usr/local/lib/python3.7/dist-packages/numpy/core/tests/test_umath_complex.py', '/usr/local/lib/python3.7/dist-packages/numpy/core/tests/test_half.py', '/usr/local/lib/python3.7/dist-packages/numpy/core/tests/test_scalarmath.py', '/usr/local/lib/python3.7/dist-packages/numpy/core/tests/test_simd.py', '/usr/local/lib/python3.7/dist-packages/numpy/core/tests/test_item_selection.py', '/usr/local/lib/python3.7/dist-packages/numpy/core/tests/test_indexing.py', '/usr/local/lib/python3.7/dist-packages/numpy/core/tests/test_scalarprint.py', '/usr/local/lib/python3.7/dist-packages/numpy/core/tests/test_protocols.py', '/usr/local/lib/python3.7/dist-packages/numpy/core/tests/test_numerictypes.py', '/usr/local/lib/python3.7/dist-packages/numpy/core/tests/test_deprecations.py', '/usr/local/lib/python3.7/dist-packages/numpy/core/tests/test_print.py', '/usr/local/lib/python3.7/dist-packages/numpy/core/tests/test_scalarbuffer.py', '/usr/local/lib/python3.7/dist-packages/numpy/core/tests/test_scalar_methods.py', '/usr/local/lib/python3.7/dist-packages/numpy/core/tests/test_api.py', '/usr/local/lib/python3.7/dist-packages/numpy/core/tests/test_dtype.py', '/usr/local/lib/python3.7/dist-packages/numpy/core/tests/test_nditer.py', '/usr/local/lib/python3.7/dist-packages/numpy/core/tests/test_extint128.py', '/usr/local/lib/python3.7/dist-packages/numpy/core/tests/test__exceptions.py', '/usr/local/lib/python3.7/dist-packages/numpy/core/tests/test_array_coercion.py', '/usr/local/lib/python3.7/dist-packages/numpy/core/tests/test_shape_base.py', '/usr/local/lib/python3.7/dist-packages/numpy/core/tests/test_datetime.py', '/usr/local/lib/python3.7/dist-packages/numpy/core/tests/test_umath.py', '/usr/local/lib/python3.7/dist-packages/numpy/core/tests/test_conversion_utils.py', '/usr/local/lib/python3.7/dist-packages/numpy/core/tests/test_records.py', '/usr/local/lib/python3.7/dist-packages/numpy/core/tests/test_memmap.py', '/usr/local/lib/python3.7/dist-packages/numpy/core/tests/test_mem_overlap.py', '/usr/local/lib/python3.7/dist-packages/numpy/core/tests/test_cpu_features.py', '/usr/local/lib/python3.7/dist-packages/numpy/core/tests/test_function_base.py', '/usr/local/lib/python3.7/dist-packages/numpy/core/tests/test_arrayprint.py', '/usr/local/lib/python3.7/dist-packages/numpy/core/tests/test_umath_accuracy.py', '/usr/local/lib/python3.7/dist-packages/numpy/core/tests/test_simd_module.py', '/usr/local/lib/python3.7/dist-packages/numpy/core/tests/test_einsum.py', '/usr/local/lib/python3.7/dist-packages/numpy/core/tests/test_ufunc.py', '/usr/local/lib/python3.7/dist-packages/numpy/core/tests/test_regression.py', '/usr/local/lib/python3.7/dist-packages/numpy/core/tests/test_numeric.py', '/usr/local/lib/python3.7/dist-packages/numpy/core/tests/test_longdouble.py', '/usr/local/lib/python3.7/dist-packages/numpy/core/tests/test_cython.py', '/usr/local/lib/python3.7/dist-packages/numpy/core/tests/test_scalar_ctors.py', '/usr/local/lib/python3.7/dist-packages/numpy/core/tests/test_getlimits.py', '/usr/local/lib/python3.7/dist-packages/numpy/core/tests/test_errstate.py', '/usr/local/lib/python3.7/dist-packages/numpy/f2py/func2subr.py', '/usr/local/lib/python3.7/dist-packages/numpy/f2py/f2py2e.py', '/usr/local/lib/python3.7/dist-packages/numpy/f2py/crackfortran.py', '/usr/local/lib/python3.7/dist-packages/numpy/f2py/tests/test_return_character.py', '/usr/local/lib/python3.7/dist-packages/numpy/f2py/tests/test_return_logical.py', '/usr/local/lib/python3.7/dist-packages/numpy/f2py/tests/test_array_from_pyobj.py', '/usr/local/lib/python3.7/dist-packages/numpy/f2py/tests/test_abstract_interface.py', '/usr/local/lib/python3.7/dist-packages/numpy/f2py/tests/test_return_real.py', '/usr/local/lib/python3.7/dist-packages/numpy/f2py/tests/test_common.py', '/usr/local/lib/python3.7/dist-packages/numpy/f2py/tests/test_callback.py', '/usr/local/lib/python3.7/dist-packages/numpy/f2py/tests/test_return_integer.py', '/usr/local/lib/python3.7/dist-packages/numpy/f2py/tests/test_assumed_shape.py', '/usr/local/lib/python3.7/dist-packages/numpy/f2py/tests/test_mixed.py', '/usr/local/lib/python3.7/dist-packages/numpy/f2py/tests/test_quoted_character.py', '/usr/local/lib/python3.7/dist-packages/numpy/f2py/tests/test_compile_function.py', '/usr/local/lib/python3.7/dist-packages/numpy/f2py/tests/test_block_docstring.py', '/usr/local/lib/python3.7/dist-packages/numpy/f2py/tests/test_return_complex.py', '/usr/local/lib/python3.7/dist-packages/numpy/f2py/tests/test_semicolon_split.py', '/usr/local/lib/python3.7/dist-packages/numpy/f2py/tests/test_crackfortran.py', '/usr/local/lib/python3.7/dist-packages/numpy/f2py/tests/test_regression.py', '/usr/local/lib/python3.7/dist-packages/numpy/f2py/tests/test_string.py', '/usr/local/lib/python3.7/dist-packages/numpy/f2py/tests/test_parameter.py', '/usr/local/lib/python3.7/dist-packages/numpy/f2py/tests/test_module_doc.py', '/usr/local/lib/python3.7/dist-packages/numpy/f2py/tests/test_kind.py', '/usr/local/lib/python3.7/dist-packages/numpy/f2py/tests/test_size.py', '/usr/local/lib/python3.7/dist-packages/numpy/typing/tests/test_generic_alias.py', '/usr/local/lib/python3.7/dist-packages/numpy/typing/tests/test_typing_extensions.py', '/usr/local/lib/python3.7/dist-packages/numpy/typing/tests/test_runtime.py', '/usr/local/lib/python3.7/dist-packages/numpy/typing/tests/test_isfile.py', '/usr/local/lib/python3.7/dist-packages/numpy/typing/tests/test_typing.py', '/usr/local/lib/python3.7/dist-packages/numpy/typing/tests/data/reveal/modules.py', '/usr/local/lib/python3.7/dist-packages/numpy/lib/format.py', '/usr/local/lib/python3.7/dist-packages/numpy/lib/function_base.py', '/usr/local/lib/python3.7/dist-packages/numpy/lib/nanfunctions.py', '/usr/local/lib/python3.7/dist-packages/numpy/lib/tests/test__datasource.py', '/usr/local/lib/python3.7/dist-packages/numpy/lib/tests/test__version.py', '/usr/local/lib/python3.7/dist-packages/numpy/lib/tests/test_utils.py', '/usr/local/lib/python3.7/dist-packages/numpy/lib/tests/test_polynomial.py', '/usr/local/lib/python3.7/dist-packages/numpy/lib/tests/test_ufunclike.py', '/usr/local/lib/python3.7/dist-packages/numpy/lib/tests/test_format.py', '/usr/local/lib/python3.7/dist-packages/numpy/lib/tests/test_io.py', '/usr/local/lib/python3.7/dist-packages/numpy/lib/tests/test_stride_tricks.py', '/usr/local/lib/python3.7/dist-packages/numpy/lib/tests/test_type_check.py', '/usr/local/lib/python3.7/dist-packages/numpy/lib/tests/test_shape_base.py', '/usr/local/lib/python3.7/dist-packages/numpy/lib/tests/test_nanfunctions.py', '/usr/local/lib/python3.7/dist-packages/numpy/lib/tests/test_arraypad.py', '/usr/local/lib/python3.7/dist-packages/numpy/lib/tests/test_index_tricks.py', '/usr/local/lib/python3.7/dist-packages/numpy/lib/tests/test_recfunctions.py', '/usr/local/lib/python3.7/dist-packages/numpy/lib/tests/test_arrayterator.py', '/usr/local/lib/python3.7/dist-packages/numpy/lib/tests/test_mixins.py', '/usr/local/lib/python3.7/dist-packages/numpy/lib/tests/test_histograms.py', '/usr/local/lib/python3.7/dist-packages/numpy/lib/tests/test_function_base.py', '/usr/local/lib/python3.7/dist-packages/numpy/lib/tests/test_arraysetops.py', '/usr/local/lib/python3.7/dist-packages/numpy/lib/tests/test_regression.py', '/usr/local/lib/python3.7/dist-packages/numpy/lib/tests/test_packbits.py', '/usr/local/lib/python3.7/dist-packages/numpy/lib/tests/test__iotools.py', '/usr/local/lib/python3.7/dist-packages/numpy/lib/tests/test_twodim_base.py', '/usr/local/lib/python3.7/dist-packages/numpy/distutils/_shell_utils.py', '/usr/local/lib/python3.7/dist-packages/numpy/distutils/extension.py', '/usr/local/lib/python3.7/dist-packages/numpy/distutils/misc_util.py', '/usr/local/lib/python3.7/dist-packages/numpy/distutils/system_info.py', '/usr/local/lib/python3.7/dist-packages/numpy/distutils/exec_command.py', '/usr/local/lib/python3.7/dist-packages/numpy/distutils/ccompiler_opt.py', '/usr/local/lib/python3.7/dist-packages/numpy/distutils/tests/test_system_info.py', '/usr/local/lib/python3.7/dist-packages/numpy/distutils/tests/test_shell_utils.py', '/usr/local/lib/python3.7/dist-packages/numpy/distutils/tests/test_npy_pkg_config.py', '/usr/local/lib/python3.7/dist-packages/numpy/distutils/tests/test_build_ext.py', '/usr/local/lib/python3.7/dist-packages/numpy/distutils/tests/test_from_template.py', '/usr/local/lib/python3.7/dist-packages/numpy/distutils/tests/test_fcompiler_nagfor.py', '/usr/local/lib/python3.7/dist-packages/numpy/distutils/tests/test_misc_util.py', '/usr/local/lib/python3.7/dist-packages/numpy/distutils/tests/test_exec_command.py', '/usr/local/lib/python3.7/dist-packages/numpy/distutils/tests/test_fcompiler.py', '/usr/local/lib/python3.7/dist-packages/numpy/distutils/tests/test_fcompiler_intel.py', '/usr/local/lib/python3.7/dist-packages/numpy/distutils/tests/test_ccompiler_opt.py', '/usr/local/lib/python3.7/dist-packages/numpy/distutils/tests/test_fcompiler_gnu.py', '/usr/local/lib/python3.7/dist-packages/numpy/distutils/command/__init__.py', '/usr/local/lib/python3.7/dist-packages/numpy/distutils/fcompiler/intel.py', '/usr/local/lib/python3.7/dist-packages/numpy/distutils/fcompiler/__init__.py', '/usr/local/lib/python3.7/dist-packages/numpy/distutils/fcompiler/gnu.py', '/usr/local/lib/python3.7/dist-packages/numpy/matrixlib/tests/test_defmatrix.py', '/usr/local/lib/python3.7/dist-packages/numpy/matrixlib/tests/test_multiarray.py', '/usr/local/lib/python3.7/dist-packages/numpy/matrixlib/tests/test_masked_matrix.py', '/usr/local/lib/python3.7/dist-packages/numpy/matrixlib/tests/test_regression.py', '/usr/local/lib/python3.7/dist-packages/numpy/matrixlib/tests/test_numeric.py', '/usr/local/lib/python3.7/dist-packages/numpy/matrixlib/tests/test_interaction.py', '/usr/local/lib/python3.7/dist-packages/numpy/polynomial/tests/test_chebyshev.py', '/usr/local/lib/python3.7/dist-packages/numpy/polynomial/tests/test_polynomial.py', '/usr/local/lib/python3.7/dist-packages/numpy/polynomial/tests/test_classes.py', '/usr/local/lib/python3.7/dist-packages/numpy/polynomial/tests/test_printing.py', '/usr/local/lib/python3.7/dist-packages/numpy/polynomial/tests/test_laguerre.py', '/usr/local/lib/python3.7/dist-packages/numpy/polynomial/tests/test_polyutils.py', '/usr/local/lib/python3.7/dist-packages/numpy/polynomial/tests/test_hermite.py', '/usr/local/lib/python3.7/dist-packages/numpy/polynomial/tests/test_hermite_e.py', '/usr/local/lib/python3.7/dist-packages/numpy/polynomial/tests/test_legendre.py', '/usr/local/lib/python3.7/dist-packages/numpy/testing/utils.py', '/usr/local/lib/python3.7/dist-packages/numpy/testing/tests/test_utils.py', '/usr/local/lib/python3.7/dist-packages/numpy/testing/_private/utils.py', '/usr/local/lib/python3.7/dist-packages/numpy/testing/_private/parameterized.py', '/usr/local/lib/python3.7/dist-packages/numpy/testing/_private/decorators.py', '/usr/local/lib/python3.7/dist-packages/numpy/ma/testutils.py', '/usr/local/lib/python3.7/dist-packages/numpy/ma/timer_comparison.py', '/usr/local/lib/python3.7/dist-packages/numpy/ma/tests/test_mrecords.py', '/usr/local/lib/python3.7/dist-packages/numpy/ma/tests/test_deprecations.py', '/usr/local/lib/python3.7/dist-packages/numpy/ma/tests/test_old_ma.py', '/usr/local/lib/python3.7/dist-packages/numpy/ma/tests/test_subclassing.py', '/usr/local/lib/python3.7/dist-packages/numpy/ma/tests/test_core.py', '/usr/local/lib/python3.7/dist-packages/numpy/ma/tests/test_regression.py', '/usr/local/lib/python3.7/dist-packages/numpy/ma/tests/test_extras.py', '/usr/local/lib/python3.7/dist-packages/numpy/random/_examples/cffi/extending.py', '/usr/local/lib/python3.7/dist-packages/numpy/random/_examples/numba/extending.py', '/usr/local/lib/python3.7/dist-packages/numpy/random/tests/test_random.py', '/usr/local/lib/python3.7/dist-packages/numpy/random/tests/test_randomstate_regression.py', '/usr/local/lib/python3.7/dist-packages/numpy/random/tests/test_generator_mt19937_regressions.py', '/usr/local/lib/python3.7/dist-packages/numpy/random/tests/test_direct.py', '/usr/local/lib/python3.7/dist-packages/numpy/random/tests/test_extending.py', '/usr/local/lib/python3.7/dist-packages/numpy/random/tests/test_seed_sequence.py', '/usr/local/lib/python3.7/dist-packages/numpy/random/tests/test_randomstate.py', '/usr/local/lib/python3.7/dist-packages/numpy/random/tests/test_smoke.py', '/usr/local/lib/python3.7/dist-packages/numpy/random/tests/test_generator_mt19937.py', '/usr/local/lib/python3.7/dist-packages/numpy/random/tests/test_regression.py', '/usr/local/lib/python3.7/dist-packages/numpy/linalg/linalg.py', '/usr/local/lib/python3.7/dist-packages/numpy/linalg/tests/test_build.py', '/usr/local/lib/python3.7/dist-packages/numpy/linalg/tests/test_deprecations.py', '/usr/local/lib/python3.7/dist-packages/numpy/linalg/tests/test_linalg.py', '/usr/local/lib/python3.7/dist-packages/numpy/linalg/tests/test_regression.py'])"
            ]
          },
          "metadata": {},
          "execution_count": 118
        }
      ]
    },
    {
      "cell_type": "markdown",
      "source": [
        "0번째의 assert를 가져오기"
      ],
      "metadata": {
        "id": "jbuR6Mb2aHY8"
      }
    },
    {
      "cell_type": "code",
      "source": [
        "key_list = []\n",
        "value_list = []\n",
        "for i in third_list[:30]:\n",
        "  key = file_path + i[0]\n",
        "  key_list.append('/' +i[0])\n",
        "  value_list.append(result_dict[key])"
      ],
      "metadata": {
        "id": "EVePxNgkMIOA"
      },
      "execution_count": null,
      "outputs": []
    },
    {
      "cell_type": "code",
      "source": [
        "key_list"
      ],
      "metadata": {
        "id": "LnH0xNmQtQmt"
      },
      "execution_count": null,
      "outputs": []
    },
    {
      "cell_type": "code",
      "source": [
        "value_list"
      ],
      "metadata": {
        "id": "cru3uMwNtSMq"
      },
      "execution_count": null,
      "outputs": []
    },
    {
      "cell_type": "code",
      "source": [
        "with open('result_3.txt','w')as f:\n",
        "  for i in range(len(key_list)):\n",
        "    f.write(key_list[i]+'\\n')\n",
        "    for j in value_list[i]:\n",
        "      f.write('   '+j.strip(' '))\n",
        "    f.write('\\n\\n')"
      ],
      "metadata": {
        "id": "WVPyrpZwTEJ0"
      },
      "execution_count": null,
      "outputs": []
    },
    {
      "cell_type": "code",
      "source": [
        "cat result_3.txt"
      ],
      "metadata": {
        "id": "0bug5YSWTLqA"
      },
      "execution_count": null,
      "outputs": []
    },
    {
      "cell_type": "markdown",
      "source": [
        "# **4번**\n",
        "\n",
        "많이 사용된 순서대로 파일리스트를 제출해주세요"
      ],
      "metadata": {
        "id": "PUdrUXCqJVO1"
      }
    },
    {
      "cell_type": "code",
      "source": [
        "import collections"
      ],
      "metadata": {
        "id": "yqdrA89lGChp"
      },
      "execution_count": null,
      "outputs": []
    },
    {
      "cell_type": "code",
      "source": [
        "second_dict"
      ],
      "metadata": {
        "id": "-3MachiMGEZI"
      },
      "execution_count": null,
      "outputs": []
    },
    {
      "cell_type": "code",
      "source": [
        "forth_list_sorted = sorted(second_dict.items(), key=lambda x:x[1], reverse=True)"
      ],
      "metadata": {
        "id": "rCHBoh-DGHAv"
      },
      "execution_count": null,
      "outputs": []
    },
    {
      "cell_type": "code",
      "source": [
        "forth_list_sorted"
      ],
      "metadata": {
        "id": "0Bwt5FavGPqM"
      },
      "execution_count": null,
      "outputs": []
    },
    {
      "cell_type": "code",
      "source": [
        "type(forth_list_sorted)"
      ],
      "metadata": {
        "colab": {
          "base_uri": "https://localhost:8080/"
        },
        "id": "dA2S188nGKrr",
        "outputId": "1d87f3d9-df02-41bb-f8a0-eac81d408444"
      },
      "execution_count": null,
      "outputs": [
        {
          "output_type": "execute_result",
          "data": {
            "text/plain": [
              "list"
            ]
          },
          "metadata": {},
          "execution_count": 195
        }
      ]
    },
    {
      "cell_type": "code",
      "source": [
        "forth_dict = collections.OrderedDict(forth_list_sorted)"
      ],
      "metadata": {
        "id": "YurRgSdfGc4l"
      },
      "execution_count": null,
      "outputs": []
    },
    {
      "cell_type": "code",
      "source": [
        "type(forth_dict)"
      ],
      "metadata": {
        "colab": {
          "base_uri": "https://localhost:8080/"
        },
        "id": "OlEvM_ZOGl9_",
        "outputId": "412f6ff4-8099-40c5-bc75-df92bde00038"
      },
      "execution_count": null,
      "outputs": [
        {
          "output_type": "execute_result",
          "data": {
            "text/plain": [
              "collections.OrderedDict"
            ]
          },
          "metadata": {},
          "execution_count": 198
        }
      ]
    },
    {
      "cell_type": "code",
      "source": [
        "with open('result_4.txt','w')as f:\n",
        "  for i in forth_dict:\n",
        "    f.write(i+':'+str(forth_dict[i])+'\\n')"
      ],
      "metadata": {
        "id": "u_FTQoMBGVEl"
      },
      "execution_count": null,
      "outputs": []
    },
    {
      "cell_type": "code",
      "source": [
        "forth_dict={}\n",
        "for i in forth_dict:\n",
        "  forth_dict[i]=len(forth_dict[i])"
      ],
      "metadata": {
        "id": "u_ZmtcdoGXOE"
      },
      "execution_count": null,
      "outputs": []
    },
    {
      "cell_type": "code",
      "source": [
        "cat result_4.txt"
      ],
      "metadata": {
        "id": "cIOWROOxGZnP"
      },
      "execution_count": null,
      "outputs": []
    },
    {
      "cell_type": "code",
      "source": [
        "dict_ = {'a':11,'b':7,'c':2}"
      ],
      "metadata": {
        "id": "iDqKguGLHLHv"
      },
      "execution_count": null,
      "outputs": []
    },
    {
      "cell_type": "code",
      "source": [
        "import operator\n",
        "ordered_list = sorted(dict_.items(),key=operator.itemgetter(1))"
      ],
      "metadata": {
        "id": "YLtqhRyZHSCA"
      },
      "execution_count": null,
      "outputs": []
    },
    {
      "cell_type": "code",
      "source": [
        "type(ordered_list)"
      ],
      "metadata": {
        "colab": {
          "base_uri": "https://localhost:8080/"
        },
        "id": "G18HTmKFHitO",
        "outputId": "4eb1fdb3-070a-4951-acbc-b82bda471b87"
      },
      "execution_count": null,
      "outputs": [
        {
          "output_type": "execute_result",
          "data": {
            "text/plain": [
              "list"
            ]
          },
          "metadata": {},
          "execution_count": 206
        }
      ]
    }
  ]
}